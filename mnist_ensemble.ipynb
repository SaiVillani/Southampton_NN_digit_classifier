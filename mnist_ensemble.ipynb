{
 "cells": [
  {
   "cell_type": "code",
   "execution_count": 33,
   "metadata": {},
   "outputs": [],
   "source": [
    "import os\n",
    "import numpy as np\n",
    "import pandas as pd\n",
    "import matplotlib.pyplot as plt\n",
    "import seaborn as sns\n",
    "from sklearn.metrics import confusion_matrix, classification_report\n",
    "from PIL import Image\n",
    "import torch\n",
    "import torch.nn as nn\n",
    "import torchvision.transforms as transforms\n",
    "\n",
    "import zipfile\n",
    "from torch.utils.data import Dataset, DataLoader"
   ]
  },
  {
   "cell_type": "code",
   "execution_count": 34,
   "metadata": {},
   "outputs": [],
   "source": [
    "# Import your models\n",
    "from mnist_skeptic_v9 import skeptic_v9\n",
    "from mnist_skeptic_v8 import skeptic_v8\n",
    "from mnist_skeptic_v7 import skeptic_v7\n",
    "\n",
    "class ModelEnsemble:\n",
    "    def __init__(self, models):\n",
    "        self.models = models\n",
    "    \n",
    "    def predict(self, x):\n",
    "        predictions = [model(x) for model in self.models]\n",
    "        return torch.stack(predictions).mean(dim=0)\n",
    "    \n",
    "    def eval(self):\n",
    "        for model in self.models:\n",
    "            model.eval()"
   ]
  },
  {
   "cell_type": "code",
   "execution_count": 21,
   "metadata": {},
   "outputs": [
    {
     "name": "stderr",
     "output_type": "stream",
     "text": [
      "C:\\Users\\saith\\AppData\\Local\\Temp\\ipykernel_25116\\30729655.py:22: FutureWarning: You are using `torch.load` with `weights_only=False` (the current default value), which uses the default pickle module implicitly. It is possible to construct malicious pickle data which will execute arbitrary code during unpickling (See https://github.com/pytorch/pytorch/blob/main/SECURITY.md#untrusted-models for more details). In a future release, the default value for `weights_only` will be flipped to `True`. This limits the functions that could be executed during unpickling. Arbitrary objects will no longer be allowed to be loaded via this mode unless they are explicitly allowlisted by the user via `torch.serialization.add_safe_globals`. We recommend you start setting `weights_only=True` for any use case where you don't have full control of the loaded file. Please open an issue on GitHub for any issues related to this experimental feature.\n",
      "  skeptic_v7.load_state_dict(torch.load('saved_models/skeptic_v7.pth'))\n",
      "C:\\Users\\saith\\AppData\\Local\\Temp\\ipykernel_25116\\30729655.py:23: FutureWarning: You are using `torch.load` with `weights_only=False` (the current default value), which uses the default pickle module implicitly. It is possible to construct malicious pickle data which will execute arbitrary code during unpickling (See https://github.com/pytorch/pytorch/blob/main/SECURITY.md#untrusted-models for more details). In a future release, the default value for `weights_only` will be flipped to `True`. This limits the functions that could be executed during unpickling. Arbitrary objects will no longer be allowed to be loaded via this mode unless they are explicitly allowlisted by the user via `torch.serialization.add_safe_globals`. We recommend you start setting `weights_only=True` for any use case where you don't have full control of the loaded file. Please open an issue on GitHub for any issues related to this experimental feature.\n",
      "  skeptic_v8.load_state_dict(torch.load('saved_models/skeptic_v8.pth'))\n",
      "C:\\Users\\saith\\AppData\\Local\\Temp\\ipykernel_25116\\30729655.py:24: FutureWarning: You are using `torch.load` with `weights_only=False` (the current default value), which uses the default pickle module implicitly. It is possible to construct malicious pickle data which will execute arbitrary code during unpickling (See https://github.com/pytorch/pytorch/blob/main/SECURITY.md#untrusted-models for more details). In a future release, the default value for `weights_only` will be flipped to `True`. This limits the functions that could be executed during unpickling. Arbitrary objects will no longer be allowed to be loaded via this mode unless they are explicitly allowlisted by the user via `torch.serialization.add_safe_globals`. We recommend you start setting `weights_only=True` for any use case where you don't have full control of the loaded file. Please open an issue on GitHub for any issues related to this experimental feature.\n",
      "  skeptic_v9.load_state_dict(torch.load('saved_models/skeptic_v9.pth'))\n"
     ]
    }
   ],
   "source": [
    "def predict_ensemble(ensemble, data_loader):\n",
    "    ensemble.eval()\n",
    "    all_predictions = []\n",
    "    all_labels = []\n",
    "    device = next(ensemble.models[0].parameters()).device  # Get the device of the first model\n",
    "    \n",
    "    with torch.no_grad():\n",
    "        for images, labels in data_loader:\n",
    "            images = images.to(device)\n",
    "            predictions = ensemble.predict(images)\n",
    "            all_predictions.append(predictions.argmax(dim=1).cpu())\n",
    "            all_labels.append(labels)\n",
    "    \n",
    "    return torch.cat(all_predictions), torch.cat(all_labels)\n",
    "\n",
    "# Create model instances\n",
    "skeptic_v7 = skeptic_v7()\n",
    "skeptic_v8 = skeptic_v8()\n",
    "skeptic_v9 = skeptic_v9()\n",
    "\n",
    "# Load pre-trained weights\n",
    "skeptic_v7.load_state_dict(torch.load('saved_models/skeptic_v7_finetuned_all_participants.pth'))\n",
    "skeptic_v8.load_state_dict(torch.load('saved_models/skeptic_v8_finetuned_all_participants.pth'))\n",
    "skeptic_v9.load_state_dict(torch.load('saved_models/skeptic_v9_finetuned_all_participants.pth'))\n",
    "\n",
    "# Create ensemble\n",
    "ensemble = ModelEnsemble([skeptic_v7, skeptic_v8, skeptic_v9])"
   ]
  },
  {
   "cell_type": "code",
   "execution_count": 22,
   "metadata": {},
   "outputs": [
    {
     "name": "stdout",
     "output_type": "stream",
     "text": [
      "Total training images: 18000\n",
      "Total test images: 50\n",
      "Participant 37:\n",
      "  Training images: 5000\n",
      "  Test images: 10\n",
      "Participant 41:\n",
      "  Training images: 5000\n",
      "  Test images: 10\n",
      "Participant 52:\n",
      "  Training images: 2000\n",
      "  Test images: 10\n",
      "Participant 65:\n",
      "  Training images: 1000\n",
      "  Test images: 10\n",
      "Participant 69:\n",
      "  Training images: 5000\n",
      "  Test images: 10\n"
     ]
    }
   ],
   "source": [
    "import os\n",
    "import zipfile\n",
    "from PIL import Image\n",
    "import torch\n",
    "from torch.utils.data import Dataset\n",
    "import torchvision.transforms as transforms\n",
    "\n",
    "def load_all_experimental_data(test_digits_folder):\n",
    "    train_images = []\n",
    "    train_labels = []\n",
    "    test_images = []\n",
    "    test_labels = []\n",
    "    participant_data = {}\n",
    "\n",
    "    transform = transforms.Compose([\n",
    "        transforms.Resize((16, 16)),\n",
    "        transforms.ToTensor(),\n",
    "        transforms.Normalize((0.5,), (0.5,))\n",
    "    ])\n",
    "\n",
    "    for filename in os.listdir(test_digits_folder):\n",
    "        if filename.endswith('.zip') and filename.startswith('experiment_results_participant'):\n",
    "            participant_number = int(filename.split('participant')[1].split('.')[0])\n",
    "            zip_filepath = os.path.join(test_digits_folder, filename)\n",
    "\n",
    "            participant_train_images = []\n",
    "            participant_train_labels = []\n",
    "            participant_test_images = []\n",
    "            participant_test_labels = []\n",
    "\n",
    "            with zipfile.ZipFile(zip_filepath, 'r') as zip_ref:\n",
    "                for img_filename in zip_ref.namelist():\n",
    "                    if img_filename.endswith('.png'):\n",
    "                        with zip_ref.open(img_filename) as file:\n",
    "                            img = Image.open(file).convert('L')  # Convert to grayscale\n",
    "                            img_tensor = transform(img)\n",
    "                            \n",
    "                            digit = int(img_filename.split('_')[0])\n",
    "                            \n",
    "                            if 'composite' in img_filename:\n",
    "                                test_images.append(img_tensor)\n",
    "                                test_labels.append(digit)\n",
    "                                participant_test_images.append(img_tensor)\n",
    "                                participant_test_labels.append(digit)\n",
    "                            else:\n",
    "                                train_images.append(img_tensor)\n",
    "                                train_labels.append(digit)\n",
    "                                participant_train_images.append(img_tensor)\n",
    "                                participant_train_labels.append(digit)\n",
    "\n",
    "            participant_data[participant_number] = {\n",
    "                'train': (torch.stack(participant_train_images), torch.tensor(participant_train_labels)),\n",
    "                'test': (torch.stack(participant_test_images), torch.tensor(participant_test_labels))\n",
    "            }\n",
    "\n",
    "    print(f\"Total training images: {len(train_images)}\")\n",
    "    print(f\"Total test images: {len(test_images)}\")\n",
    "    \n",
    "    for participant, data in participant_data.items():\n",
    "        print(f\"Participant {participant}:\")\n",
    "        print(f\"  Training images: {len(data['train'][0])}\")\n",
    "        print(f\"  Test images: {len(data['test'][0])}\")\n",
    "\n",
    "    return (torch.stack(train_images), torch.tensor(train_labels), \n",
    "            torch.stack(test_images), torch.tensor(test_labels),\n",
    "            participant_data)\n",
    "\n",
    "class ExperimentalDataset(Dataset):\n",
    "    def __init__(self, images, labels):\n",
    "        self.images = images\n",
    "        self.labels = labels\n",
    "    \n",
    "    def __len__(self):\n",
    "        return len(self.labels)\n",
    "    \n",
    "    def __getitem__(self, idx):\n",
    "        return self.images[idx], self.labels[idx]\n",
    "\n",
    "# Load the data\n",
    "test_digits_folder = 'test_digits'\n",
    "train_images, train_labels, test_images, test_labels, participant_data = load_all_experimental_data(test_digits_folder)\n",
    "\n",
    "# Create datasets\n",
    "train_dataset = ExperimentalDataset(train_images, train_labels)\n",
    "test_dataset = ExperimentalDataset(test_images, test_labels)\n",
    "\n",
    "# Create dataloaders if needed\n",
    "train_loader = torch.utils.data.DataLoader(train_dataset, batch_size=32, shuffle=True)\n",
    "test_loader = torch.utils.data.DataLoader(test_dataset, batch_size=32, shuffle=False)"
   ]
  },
  {
   "cell_type": "code",
   "execution_count": 23,
   "metadata": {},
   "outputs": [],
   "source": [
    "#ensemble predictions\n",
    "ensemble_predictions, true_labels = predict_ensemble(ensemble, test_loader)"
   ]
  },
  {
   "cell_type": "code",
   "execution_count": 24,
   "metadata": {},
   "outputs": [
    {
     "name": "stdout",
     "output_type": "stream",
     "text": [
      "Ensemble Accuracy: 0.1400\n"
     ]
    }
   ],
   "source": [
    "# Calculate accuracy\n",
    "accuracy = (ensemble_predictions == true_labels).float().mean()\n",
    "print(f\"Ensemble Accuracy: {accuracy.item():.4f}\")"
   ]
  },
  {
   "cell_type": "code",
   "execution_count": 27,
   "metadata": {},
   "outputs": [],
   "source": [
    "#individual model predictions\n",
    "def predict_individual(model, data_loader):\n",
    "    model.eval()\n",
    "    all_predictions = []\n",
    "    device = next(model.parameters()).device  # Get the device of the model\n",
    "    \n",
    "    with torch.no_grad():\n",
    "        for images, _ in data_loader:\n",
    "            images = images.to(device)\n",
    "            predictions = model(images)\n",
    "            all_predictions.append(predictions.argmax(dim=1).cpu())\n",
    "    \n",
    "    return torch.cat(all_predictions)\n",
    "\n",
    "# Now use it like this:\n",
    "individual_predictions = {\n",
    "    'skeptic_v7': predict_individual(skeptic_v7, test_loader),\n",
    "    'skeptic_v8': predict_individual(skeptic_v8, test_loader),\n",
    "    'skeptic_v9': predict_individual(skeptic_v9, test_loader)\n",
    "}"
   ]
  },
  {
   "cell_type": "code",
   "execution_count": 28,
   "metadata": {},
   "outputs": [
    {
     "data": {
      "image/png": "[encoded data removed]",
      "text/plain": [
       "<Figure size 1000x600 with 1 Axes>"
      ]
     },
     "metadata": {},
     "output_type": "display_data"
    },
    {
     "data": {
      "image/png": "[encoded data removed]",
      "text/plain": [
       "<Figure size 1200x400 with 3 Axes>"
      ]
     },
     "metadata": {},
     "output_type": "display_data"
    }
   ],
   "source": [
    "#analyse the predictions\n",
    "def analyze_predictions(ensemble_pred, individual_preds):\n",
    "    agreement = (ensemble_pred.unsqueeze(1) == torch.stack(list(individual_preds.values())).T).float().mean(dim=0)\n",
    "    \n",
    "    plt.figure(figsize=(10, 6))\n",
    "    sns.barplot(x=list(individual_preds.keys()), y=agreement)\n",
    "    plt.title('Model Agreement with Ensemble')\n",
    "    plt.ylabel('Agreement Ratio')\n",
    "    plt.show()\n",
    "\n",
    "    # Prediction distribution\n",
    "    plt.figure(figsize=(12, 4))\n",
    "    for i, (name, preds) in enumerate(individual_preds.items()):\n",
    "        plt.subplot(1, 3, i+1)\n",
    "        sns.countplot(x=preds.numpy())\n",
    "        plt.title(f'{name} Predictions')\n",
    "    plt.tight_layout()\n",
    "    plt.show()\n",
    "\n",
    "analyze_predictions(ensemble_predictions, individual_predictions)"
   ]
  },
  {
   "cell_type": "code",
   "execution_count": 30,
   "metadata": {},
   "outputs": [],
   "source": [
    "#overfitting analysis\n",
    "def evaluate_model(model, data_loader):\n",
    "    model.eval()\n",
    "    correct = 0\n",
    "    total = 0\n",
    "    device = next(model.parameters()).device\n",
    "\n",
    "    with torch.no_grad():\n",
    "        for images, labels in data_loader:\n",
    "            images, labels = images.to(device), labels.to(device)\n",
    "            outputs = model(images)\n",
    "            _, predicted = torch.max(outputs.data, 1)\n",
    "            total += labels.size(0)\n",
    "            correct += (predicted == labels).sum().item()\n",
    "\n",
    "    accuracy = correct / total\n",
    "    return accuracy\n",
    "\n",
    "def analyze_overfitting(models, train_loader, test_loader):\n",
    "    results = []\n",
    "    for name, model in models.items():\n",
    "        train_acc = evaluate_model(model, train_loader)\n",
    "        test_acc = evaluate_model(model, test_loader)\n",
    "        results.append({\n",
    "            'Model': name,\n",
    "            'Train Accuracy': train_acc,\n",
    "            'Test Accuracy': test_acc,\n",
    "            'Overfitting': train_acc - test_acc\n",
    "        })\n",
    "    \n",
    "    df = pd.DataFrame(results)\n",
    "    df = df.sort_values('Overfitting', ascending=False)\n",
    "    \n",
    "    plt.figure(figsize=(12, 6))\n",
    "    sns.barplot(x='Model', y='Overfitting', data=df)\n",
    "    plt.title('Overfitting Analysis')\n",
    "    plt.show()\n",
    "    \n",
    "    return df"
   ]
  },
  {
   "cell_type": "code",
   "execution_count": 31,
   "metadata": {},
   "outputs": [
    {
     "data": {
      "image/png": "[encoded data removed]",
      "text/plain": [
       "<Figure size 1200x600 with 1 Axes>"
      ]
     },
     "metadata": {},
     "output_type": "display_data"
    },
    {
     "name": "stdout",
     "output_type": "stream",
     "text": [
      "        Model  Train Accuracy  Test Accuracy  Overfitting\n",
      "2  skeptic_v9        0.100556           0.10     0.000556\n",
      "1  skeptic_v8        0.100500           0.10     0.000500\n",
      "0  skeptic_v7        0.102500           0.18    -0.077500\n"
     ]
    }
   ],
   "source": [
    "# Assuming you have train_loader and test_loader\n",
    "overfitting_results = analyze_overfitting(\n",
    "    {'skeptic_v7': skeptic_v7, 'skeptic_v8': skeptic_v8, 'skeptic_v9': skeptic_v9},\n",
    "    train_loader, test_loader\n",
    ")\n",
    "print(overfitting_results)"
   ]
  },
  {
   "cell_type": "code",
   "execution_count": null,
   "metadata": {},
   "outputs": [],
   "source": []
  },
  {
   "cell_type": "code",
   "execution_count": 32,
   "metadata": {},
   "outputs": [
    {
     "name": "stdout",
     "output_type": "stream",
     "text": [
      "Model Ranking:\n",
      "        Model  Train Accuracy  Test Accuracy  Overfitting     Score\n",
      "0  skeptic_v7        0.102500           0.18    -0.077500  0.149250\n",
      "1  skeptic_v8        0.100500           0.10     0.000500  0.069850\n",
      "2  skeptic_v9        0.100556           0.10     0.000556  0.069833\n",
      "Best model type: skeptic_v7\n"
     ]
    }
   ],
   "source": [
    "#model ranking and selection\n",
    "def rank_models(overfitting_df, test_accuracy_weight=0.7, overfitting_weight=0.3):\n",
    "    df = overfitting_df.copy()\n",
    "    df['Score'] = (df['Test Accuracy'] * test_accuracy_weight - \n",
    "                   df['Overfitting'] * overfitting_weight)\n",
    "    return df.sort_values('Score', ascending=False)\n",
    "\n",
    "ranked_models = rank_models(overfitting_results)\n",
    "print(\"Model Ranking:\")\n",
    "print(ranked_models)\n",
    "\n",
    "# Select the best model type\n",
    "best_model_type = ranked_models.iloc[0]['Model']\n",
    "print(f\"Best model type: {best_model_type}\")"
   ]
  },
  {
   "cell_type": "code",
   "execution_count": null,
   "metadata": {},
   "outputs": [],
   "source": [
    "def plot_confusion_matrix(cm, title):\n",
    "    plt.figure(figsize=(10, 8))\n",
    "    sns.heatmap(cm, annot=True, fmt='d', cmap='Blues')\n",
    "    plt.title(title)\n",
    "    plt.ylabel('True label')\n",
    "    plt.xlabel('Predicted label')\n",
    "    plt.show()\n",
    "\n",
    "def get_predictions(model, data_loader):\n",
    "    model.eval()\n",
    "    all_preds = []\n",
    "    all_labels = []\n",
    "    device = next(model.parameters()).device\n",
    "    \n",
    "    with torch.no_grad():\n",
    "        for images, labels in data_loader:\n",
    "            images = images.to(device)\n",
    "            outputs = model(images)\n",
    "            _, preds = torch.max(outputs, 1)\n",
    "            all_preds.extend(preds.cpu().numpy())\n",
    "            all_labels.extend(labels.numpy())\n",
    "    \n",
    "    return np.array(all_preds), np.array(all_labels)\n",
    "\n",
    "# Get predictions for each model\n",
    "models = {'skeptic_v7': skeptic_v7, 'skeptic_v8': skeptic_v8, 'skeptic_v9': skeptic_v9}\n",
    "predictions = {}\n",
    "for name, model in models.items():\n",
    "    predictions[name] = get_predictions(model, test_loader)\n",
    "\n",
    "# Get ensemble predictions\n",
    "ensemble_preds, true_labels = predict_ensemble(ensemble, test_loader)\n",
    "ensemble_preds = ensemble_preds.cpu().numpy()\n",
    "true_labels = true_labels.cpu().numpy()\n",
    "\n",
    "# Plot confusion matrix for each model\n",
    "for name, (preds, labels) in predictions.items():\n",
    "    cm = confusion_matrix(labels, preds)\n",
    "    plot_confusion_matrix(cm, f'Confusion Matrix - {name}')\n",
    "\n",
    "# Plot confusion matrix for ensemble\n",
    "cm_ensemble = confusion_matrix(true_labels, ensemble_preds)\n",
    "plot_confusion_matrix(cm_ensemble, 'Confusion Matrix - Ensemble')\n",
    "\n",
    "# Analyze confusability\n",
    "def analyze_confusability(cm):\n",
    "    confusability = cm.sum(axis=0) - np.diag(cm)\n",
    "    most_confusable = confusability.argmax()\n",
    "    least_confusable = confusability.argmin()\n",
    "    return most_confusable, least_confusable"
   ]
  },
  {
   "cell_type": "code",
   "execution_count": null,
   "metadata": {},
   "outputs": [],
   "source": [
    "most_confusable, least_confusable = analyze_confusability(cm_ensemble)\n",
    "print(f\"Most confusable digit: {most_confusable}\")\n",
    "print(f\"Least confusable (most discriminable) digit: {least_confusable}\")\n",
    "\n",
    "# Analyze misclassifications\n",
    "misclassifications = cm_ensemble.sum(axis=0) - np.diag(cm_ensemble)\n",
    "sorted_digits = np.argsort(misclassifications)[::-1]\n",
    "\n",
    "print(\"\\nDigits ranked by misclassification rate (most to least):\")\n",
    "for digit in sorted_digits:\n",
    "    print(f\"Digit {digit}: {misclassifications[digit]} misclassifications\")"
   ]
  },
  {
   "cell_type": "markdown",
   "metadata": {},
   "source": [
    "TO BE DONE: Once you can do a gladiator clash of the models, you can retrain the best 'type' with different initialisations."
   ]
  },
  {
   "cell_type": "code",
   "execution_count": null,
   "metadata": {},
   "outputs": [],
   "source": [
    "def create_multiple_models(model_class, num_models=20):\n",
    "    return [model_class() for _ in range(num_models)]\n",
    "\n",
    "# Assuming SkepticV7 is the best model type\n",
    "best_model_class = SkepticV7  # Replace with actual best model class\n",
    "multiple_models = create_multiple_models(best_model_class)\n",
    "\n",
    "# Train these models with different initializations\n",
    "# ... (training code here)"
   ]
  },
  {
   "cell_type": "code",
   "execution_count": null,
   "metadata": {},
   "outputs": [],
   "source": [
    "final_ensemble = ModelEnsemble(multiple_models)\n",
    "\n",
    "# Evaluate final ensemble\n",
    "final_predictions = predict_ensemble(final_ensemble, test_data)\n",
    "final_accuracy = (final_predictions == test_labels).float().mean()\n",
    "print(f\"Final Ensemble Accuracy: {final_accuracy:.4f}\")\n",
    "\n",
    "# Compare with individual model performances\n",
    "individual_accuracies = [evaluate_model(model, test_data) for model in multiple_models]\n",
    "plt.figure(figsize=(10, 6))\n",
    "plt.hist(individual_accuracies, bins=20)\n",
    "plt.axvline(final_accuracy, color='r', linestyle='dashed', linewidth=2)\n",
    "plt.title('Individual Model Accuracies vs Ensemble Accuracy')\n",
    "plt.xlabel('Accuracy')\n",
    "plt.ylabel('Count')\n",
    "plt.legend(['Ensemble Accuracy', 'Individual Models'])\n",
    "plt.show()"
   ]
  },
  {
   "cell_type": "code",
   "execution_count": null,
   "metadata": {},
   "outputs": [],
   "source": []
  }
 ],
 "metadata": {
  "kernelspec": {
   "display_name": "env",
   "language": "python",
   "name": "python3"
  },
  "language_info": {
   "codemirror_mode": {
    "name": "ipython",
    "version": 3
   },
   "file_extension": ".py",
   "mimetype": "text/x-python",
   "name": "python",
   "nbconvert_exporter": "python",
   "pygments_lexer": "ipython3",
   "version": "3.12.5"
  }
 },
 "nbformat": 4,
 "nbformat_minor": 2
}
