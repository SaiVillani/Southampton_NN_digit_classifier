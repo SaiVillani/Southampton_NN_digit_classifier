{
 "cells": [
  {
   "cell_type": "markdown",
   "metadata": {},
   "source": [
    "This is the analysis pipeline which will have to do the following:\n",
    "\n",
    "-Read in the experimental data, and create the arrays for all stimuli and selected stimuli\n",
    "\n",
    "-Create iterative composites which incrementally consider more participant judgements\n",
    "\n",
    "-have these composites be judged by the ensemble model in a one-shot fashion\n",
    "\n",
    "-compute the scores of the VVIQ & CAPS\n",
    "\n",
    "-compute correlations between the VVIQ & CAPS\n",
    "\n",
    "-compute correlations between the questionnaires and the experimental results\n",
    "\n",
    "-compute the test retest reliability\n",
    "\n",
    "-anything else you might remember from the notebook\n"
   ]
  },
  {
   "cell_type": "markdown",
   "metadata": {},
   "source": []
  },
  {
   "cell_type": "markdown",
   "metadata": {},
   "source": []
  }
 ],
 "metadata": {
  "language_info": {
   "name": "python"
  }
 },
 "nbformat": 4,
 "nbformat_minor": 2
}
